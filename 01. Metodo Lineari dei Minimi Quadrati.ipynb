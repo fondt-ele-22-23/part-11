{
 "cells": [
  {
   "cell_type": "markdown",
   "metadata": {},
   "source": [
    "Iniziamo abilitando subito l'estensione `autoreload`"
   ]
  },
  {
   "cell_type": "code",
   "execution_count": 1,
   "metadata": {},
   "outputs": [],
   "source": [
    "%load_ext autoreload\n",
    "%autoreload 2"
   ]
  },
  {
   "cell_type": "markdown",
   "metadata": {
    "slideshow": {
     "slide_type": "slide"
    }
   },
   "source": [
    "# Lettura di File CSV"
   ]
  },
  {
   "cell_type": "markdown",
   "metadata": {
    "slideshow": {
     "slide_type": "subslide"
    }
   },
   "source": [
    "## Gestione di Dati Sperimentali\n",
    "\n",
    "**Supponiamo di aver effettuato misure sperimentali**\n",
    "\n",
    "...Per caratterizzare le prestazioni di un ciclista\n",
    "\n",
    "<center>\n",
    "<img src=\"assets/bike.jpg\" width=50%/>\n",
    "</center>\n",
    "\n",
    "* Abbiamo installato un sensore per misurare la forza esercitata sui pedali\n",
    "* ...Ed abbiamo chiesto al ciclista di aumentare la velocità fino al massimo"
   ]
  },
  {
   "cell_type": "markdown",
   "metadata": {
    "slideshow": {
     "slide_type": "subslide"
    }
   },
   "source": [
    "## Gestione di Dati Sperimentali\n",
    "\n",
    "**Dati sperimentali di questo tipo**\n",
    "\n",
    "...Vengono tipicamente strutturati in tabelle\n",
    "\n",
    "velocità | forza\n",
    ":-------:|:-----:\n",
    "0    |   0\n",
    "0.2    |   0.3\n",
    "...    | ...\n",
    "\n",
    "\n",
    "* La tabella è quindi salvata in un file con un formato opportuno\n",
    "* E.g. file excel, .mat, ODS, CSV, HDF5...\n",
    "\n",
    "**Il primo passo per una analisi sperimentale è accedere ai dati nel file**\n",
    "\n",
    "* I nostri dati sono nel file [data/bicycle.csv](http://127.0.0.1:8888/edit/data/bicycle.csv)\n",
    "* ...Che è in formato CSV"
   ]
  },
  {
   "cell_type": "markdown",
   "metadata": {
    "slideshow": {
     "slide_type": "subslide"
    }
   },
   "source": [
    "## Formato CSV\n",
    "\n",
    "**CSV sta per Comma Separated Values (valori separati da virgole)**\n",
    "\n",
    "Vediamone un piccolo esempio\n",
    "\n",
    "```\n",
    "\"speed\",\"force\"\n",
    "0.0,-0.013567540115007604\n",
    "0.1414141414141414,-0.5415313487144505\n",
    "0.2828282828282828,-0.38254467422691973\n",
    "0.4242424242424242,-0.16841035025027298\n",
    "```\n",
    "\n",
    "* Il file è in formato testuale (come i file `.py` o `.txt`)\n",
    "* La prima riga del file di solito contiene l'intestazione della tabella\n",
    "* La righe successive corrispondono alle righe della tabella\n",
    "* I valori su una riga sono divisi da un separatore (di solito la virgola)\n",
    "* I valori testuali sono abitualmente racchiusi tra doppi apici"
   ]
  },
  {
   "cell_type": "markdown",
   "metadata": {
    "slideshow": {
     "slide_type": "subslide"
    }
   },
   "source": [
    "## Lettura di File CSV\n",
    "\n",
    "**Il formato CSV è molto utilizzato per lo scambio di dati**\n",
    "\n",
    "* Può essere esaminato e modificato con un editor di testo\n",
    "* Può essere letto e scritto da molte applicazioni (MS Excel, OpenOffice, etc.)\n",
    "* Può essere letto e scritto utilizzando librerie Python\n",
    "\n",
    "**La terza opzione (usare Python) è molto interessante**\n",
    "\n",
    "...Perché Python fornisce pacchetti di analisi dati _molto_ potenti:\n",
    "\n",
    "* [pandas](https://pandas.pydata.org/) manipolazione di dati ed analisi statistiche\n",
    "* [scipy](https://scipy.org/) per calcolo scientifico avanzato\n",
    "* [scikit-learn](https://scikit-learn.org/stable/) per apprendimento automatico (Machine Learning)\n",
    "* [tensorflow](https://www.tensorflow.org/) per Deep Learnin (reti neurali)\n",
    "* ..."
   ]
  },
  {
   "cell_type": "markdown",
   "metadata": {
    "slideshow": {
     "slide_type": "subslide"
    }
   },
   "source": [
    "## Accesso a File in Python\n",
    "\n",
    "**Per leggere un file CSV dobbiamo innanzitutto accedere al file stesso**\n",
    "\n",
    "Questo richiede di:\n",
    "\n",
    "* Comunicare al file system che desideriamo \"aprire\" il file\n",
    "* Effettura la lettura\n",
    "* Comunicare al file system che desideriamo \"chiudere\" il file\n",
    "\n",
    "È importante che tutte le fasi vengano eseguite\n",
    "\n",
    "* ...Ma in pratica è facile dimenticarsi di effettura la chiusura\n",
    "\n",
    "**Python gestisce questa sequenza usando l'_istruzione `with`_**\n",
    "\n",
    "La sintassi è:\n",
    "\n",
    "```\n",
    "with <espressione> as <variabile>:\n",
    "    <blocco>\n",
    "```"
   ]
  },
  {
   "cell_type": "markdown",
   "metadata": {
    "slideshow": {
     "slide_type": "subslide"
    }
   },
   "source": [
    "## Accesso a File in Python\n",
    "\n",
    "**`with` è un notazione compatta per una sequenza di normali istruzioni**\n",
    "\n",
    "In particolare, la sintassi:\n",
    "\n",
    "```\n",
    "with <espressione> as <variabile>:\n",
    "    <blocco>\n",
    "```\n",
    "\n",
    "È (quasi) equivalente a:\n",
    "\n",
    "```python\n",
    "<variabile> = <espressione>\n",
    "<variabile>.__enter__()\n",
    "<blocco>\n",
    "<variabile>.__exit__()\n",
    "```\n",
    "\n",
    "* `<espressione>` deve restituire un oggetto\n",
    "* ...Per quale devono essere definiti i metodi `__enter__` ed `__exit__`\n",
    "* Per i file `__exit__` effettua la chiusura"
   ]
  },
  {
   "cell_type": "markdown",
   "metadata": {
    "slideshow": {
     "slide_type": "subslide"
    }
   },
   "source": [
    "## Un Esempio Pratico\n",
    "\n",
    "**Proviamo ad aprire il file `bicycle.csv` nella cartella `data`**\n",
    "\n",
    "* Per prima cosa, dobbiamo ottenerne il _percorso relativo_\n",
    "* Questo dipende (purtroppo dal sistema operativo)\n",
    "  - Su Windows, il percorso è \"data\\bicycle.csv\"\n",
    "  - Su OS X/Linux è \"data/bicycle.csv\"\n",
    "\n",
    "**Possiamo ottenere una versione generale usando la funzione `os.path.join`**"
   ]
  },
  {
   "cell_type": "code",
   "execution_count": 3,
   "metadata": {},
   "outputs": [
    {
     "name": "stdout",
     "output_type": "stream",
     "text": [
      "Percorso relativo del file: data/bicycle.csv\n"
     ]
    }
   ],
   "source": [
    "import os\n",
    "\n",
    "fname = os.path.join('data', 'bicycle.csv')\n",
    "print(f'Percorso relativo del file: {fname}')"
   ]
  },
  {
   "cell_type": "markdown",
   "metadata": {},
   "source": [
    "* La funzione concatena le stringhe passate come argomento\n",
    "* ...Usando il separatore corretto per il SO operativo utilizzato"
   ]
  },
  {
   "cell_type": "markdown",
   "metadata": {
    "slideshow": {
     "slide_type": "subslide"
    }
   },
   "source": [
    "## Un Esempio Pratico\n",
    "\n",
    "**Possiamo ora usare `with` per gestire l'apertura e chiusura**"
   ]
  },
  {
   "cell_type": "code",
   "execution_count": 4,
   "metadata": {},
   "outputs": [],
   "source": [
    "import os\n",
    "\n",
    "fname = os.path.join('data', 'bicycle.csv')\n",
    "with open(fname) as fp:\n",
    "    pass"
   ]
  },
  {
   "cell_type": "markdown",
   "metadata": {
    "slideshow": {
     "slide_type": "-"
    }
   },
   "source": [
    "* La funzione `open` apre il file in lettura, in modalità testo\n",
    "* ...E restituisce un _file descriptor_, che viene assegnato in `fp`\n",
    "* Il blocco `with` si occupa della chiusura del file\n",
    "\n",
    "**Sono possibili [modalità di apertura diverse](https://docs.python.org/3/tutorial/inputoutput.html#reading-and-writing-files) (e.g. in scrittura, modalità binaria)**\n",
    "\n",
    "* Vanno usate con cautela (aprendo un file in scrittura ne si cancella il contenuto)\n",
    "* ...In questo corso ci limiteremo ad aprire file in lettura"
   ]
  },
  {
   "cell_type": "markdown",
   "metadata": {
    "slideshow": {
     "slide_type": "subslide"
    }
   },
   "source": [
    "## Un Esempio Pratico\n",
    "\n",
    "**Possiamo leggere il contenuto del file (e.g.) con `readlines`**"
   ]
  },
  {
   "cell_type": "code",
   "execution_count": 5,
   "metadata": {},
   "outputs": [
    {
     "name": "stdout",
     "output_type": "stream",
     "text": [
      "['\"speed\",\"force\"\\n', '0.0,1.2531560444730068\\n', '0.1414141414141414,0.22194751712574834\\n']\n"
     ]
    }
   ],
   "source": [
    "import os\n",
    "\n",
    "fname = os.path.join('data', 'bicycle.csv')\n",
    "with open(fname) as fp:\n",
    "    lines = fp.readlines()\n",
    "\n",
    "print(lines[:3])"
   ]
  },
  {
   "cell_type": "markdown",
   "metadata": {},
   "source": [
    "* `readlines` è un metodo del file descriptor\n",
    "* Legge le righe del file una ad una e le inserisce in una lista\n",
    "* ...Ma non interpreta in alcun modo i dati contenuti\n",
    "* Ogni linea è semplicemente una stringa"
   ]
  },
  {
   "cell_type": "markdown",
   "metadata": {
    "slideshow": {
     "slide_type": "subslide"
    }
   },
   "source": [
    "## Un Esempio Pratico\n",
    "\n",
    "**Possiamo leggere _ed interpretare_ il contenuto del file usando il [modulo `csv`](https://docs.python.org/3/library/csv.html)**"
   ]
  },
  {
   "cell_type": "code",
   "execution_count": 6,
   "metadata": {},
   "outputs": [
    {
     "name": "stdout",
     "output_type": "stream",
     "text": [
      "['speed', 'force']\n",
      "[0.0, 1.2531560444730068]\n",
      "[0.1414141414141414, 0.22194751712574834]\n"
     ]
    }
   ],
   "source": [
    "import os, csv\n",
    "\n",
    "fname = os.path.join('data', 'bicycle.csv')\n",
    "with open(fname) as fp:\n",
    "    reader = csv.reader(fp, quoting=csv.QUOTE_NONNUMERIC)\n",
    "    for i, row in enumerate(reader):\n",
    "        print(row)\n",
    "        if i >= 2:\n",
    "            break"
   ]
  },
  {
   "cell_type": "markdown",
   "metadata": {},
   "source": [
    "Per prima cosa, una volta aperto file, istanziamo un oggetto `reader`\n",
    "\n",
    "* `reader` è una classe in grado di leggere ed interpretare file CSV\n",
    "* Il costrutture richiede come unico parametro obbligatorio il file descriptor"
   ]
  },
  {
   "cell_type": "markdown",
   "metadata": {
    "slideshow": {
     "slide_type": "subslide"
    }
   },
   "source": [
    "## Un Esempio Pratico\n",
    "\n",
    "**Possiamo leggere _ed interpretare_ il contenuto del file usando il [modulo `csv`](https://docs.python.org/3/library/csv.html)**"
   ]
  },
  {
   "cell_type": "code",
   "execution_count": 7,
   "metadata": {},
   "outputs": [
    {
     "name": "stdout",
     "output_type": "stream",
     "text": [
      "['speed', 'force']\n",
      "[0.0, 1.2531560444730068]\n",
      "[0.1414141414141414, 0.22194751712574834]\n"
     ]
    }
   ],
   "source": [
    "import os, csv\n",
    "\n",
    "fname = os.path.join('data', 'bicycle.csv')\n",
    "with open(fname) as fp:\n",
    "    reader = csv.reader(fp, quoting=csv.QUOTE_NONNUMERIC)\n",
    "    for i, row in enumerate(reader):\n",
    "        print(row)\n",
    "        if i >= 2:\n",
    "            break"
   ]
  },
  {
   "cell_type": "markdown",
   "metadata": {},
   "source": [
    "Si può modificare il comportamento di `reader` mediante parametri opzionali\n",
    "\n",
    "* Per esempio si può indicare di usare un separatore diverso dalla virgola\n",
    "* Nel nostro caso, `quoting=csv.QUOTE_NONNUMERIC` indica che...\n",
    "* ...Ogni dato non racchiuso da \"...\" va considerato un float "
   ]
  },
  {
   "cell_type": "markdown",
   "metadata": {
    "slideshow": {
     "slide_type": "subslide"
    }
   },
   "source": [
    "## Un Esempio Pratico\n",
    "\n",
    "**Possiamo infine convertire il risultato in un array `numpy`**"
   ]
  },
  {
   "cell_type": "code",
   "execution_count": 8,
   "metadata": {},
   "outputs": [
    {
     "name": "stdout",
     "output_type": "stream",
     "text": [
      "[[0.         1.25315604]\n",
      " [0.14141414 0.22194752]\n",
      " [0.28282828 0.24585546]]\n"
     ]
    }
   ],
   "source": [
    "import os, csv\n",
    "import numpy as np\n",
    "\n",
    "fname = os.path.join('data', 'bicycle.csv')\n",
    "header, data = None, []\n",
    "with open(fname) as fp:\n",
    "    reader = csv.reader(fp, quoting=csv.QUOTE_NONNUMERIC)\n",
    "    for i, row in enumerate(reader):\n",
    "        if i == 0:\n",
    "            header = row # La prima riga del CSV contiene l'intestazione\n",
    "        else:\n",
    "            data.append(row) # ...Le altre righe contengono dati\n",
    "\n",
    "data = np.array(data)\n",
    "print(data[:3, :]) # prime tre righe dell'array"
   ]
  },
  {
   "cell_type": "markdown",
   "metadata": {},
   "source": [
    "L'intestazione del file/tabella può fare comodo (la mettiamo in una variabile)"
   ]
  },
  {
   "cell_type": "markdown",
   "metadata": {
    "slideshow": {
     "slide_type": "subslide"
    }
   },
   "source": [
    "## Modulo di Esempio\n",
    "\n",
    "**Il codice mostrato è disponibile nella funzione `example.analyze.read_csv`**"
   ]
  },
  {
   "cell_type": "code",
   "execution_count": 10,
   "metadata": {},
   "outputs": [
    {
     "name": "stdout",
     "output_type": "stream",
     "text": [
      "['speed', 'force']\n",
      "[[0.         1.25315604]\n",
      " [0.14141414 0.22194752]\n",
      " [0.28282828 0.24585546]]\n"
     ]
    }
   ],
   "source": [
    "import os\n",
    "from base import analyze\n",
    "\n",
    "fname = os.path.join('data', 'bicycle.csv')\n",
    "data, header = analyze.read_csv(fname)\n",
    "\n",
    "print(header) # Intestazione (nomi delle colonne)\n",
    "print(data[:3, :]) # prime tre righe dell'array"
   ]
  },
  {
   "cell_type": "markdown",
   "metadata": {},
   "source": [
    "* La funzione riceve come parametro il percorso del file\n",
    "* ...E restituisce i dati e l'intestazione"
   ]
  },
  {
   "cell_type": "markdown",
   "metadata": {
    "slideshow": {
     "slide_type": "subslide"
    }
   },
   "source": [
    "## Plotting Our Data\n",
    "\n",
    "**Esaminiamo i nostri dati con un _grafico di disperisione_**\n",
    "\n",
    "* Un grafico di dispersione è come un grafico cartesiamo, ma _senza le linee_\n",
    "* In `matplotlib` possiamo ottenerne uno con la funzione `scatter`\n",
    "\n",
    "Ne possiamo ottenere uno con `example.analyze.scatter`:\n",
    "\n",
    "```python\n",
    "def scatter(x, y, xlabel=None, ylabel=None, figsize=None):\n",
    "    plt.figure(figsize=figsize)\n",
    "    plt.scatter(x, y)\n",
    "    plt.xlabel(xlabel, fontsize=14)\n",
    "    plt.ylabel(ylabel, fontsize=14)\n",
    "    plt.grid(':')\n",
    "    plt.show()\n",
    "```"
   ]
  },
  {
   "cell_type": "markdown",
   "metadata": {
    "slideshow": {
     "slide_type": "subslide"
    }
   },
   "source": [
    "## Plotting Our Data\n",
    "\n",
    "**Procediamo ora a visualizzare i nostri dati**"
   ]
  },
  {
   "cell_type": "code",
   "execution_count": 12,
   "metadata": {},
   "outputs": [
    {
     "data": {
      "image/png": "[encoded data removed]",
      "text/plain": [
       "<Figure size 2000x700 with 1 Axes>"
      ]
     },
     "metadata": {},
     "output_type": "display_data"
    }
   ],
   "source": [
    "analyze.scatter(x=data[:, 0], y=data[:, 1],\n",
    "                     xlabel='speed', ylabel='force', figsize=(20, 7))"
   ]
  },
  {
   "cell_type": "markdown",
   "metadata": {
    "slideshow": {
     "slide_type": "slide"
    }
   },
   "source": [
    "# Metodo Lineare dei Minimi Quadrati"
   ]
  },
  {
   "cell_type": "markdown",
   "metadata": {
    "slideshow": {
     "slide_type": "subslide"
    }
   },
   "source": [
    "## Analisi della Curva\n",
    "\n",
    "**Quando un ciclista pedala, deve opporsi a tre forze**\n",
    "\n",
    "* La forza di trascinamento dovuta all'aria\n",
    "  - ...Che ha una dipendenza quadratica dalla velocità, i.e. $\\alpha_2 v^2$\n",
    "* L'attrito dovuto allo sfregamento dei padali\n",
    "  - ...Che cresce linearmente con la velocità, i.e. $\\alpha_1 v$\n",
    "* L'attrito volvente delle ruote sul terreno\n",
    "  - ...Che è approssimativamente costante, i.e. $\\alpha_0$\n",
    "\n",
    "**Quindi la dipendenza della forza rispetto alla velocità...**\n",
    "\n",
    "...È descritta da una equazione nella forma:\n",
    "\n",
    "$$\n",
    "F(x) = \\alpha_2 x^2 + \\alpha_1 x + \\alpha_0\n",
    "$$\n",
    "\n",
    "**Il nostro obiettivo è _determinare i coefficienti_**"
   ]
  },
  {
   "cell_type": "markdown",
   "metadata": {
    "slideshow": {
     "slide_type": "subslide"
    }
   },
   "source": [
    "## Rumore di Misura\n",
    "\n",
    "**Possiamo vederlo come un problema di progettazione di curve**\n",
    "\n",
    "...Ma se lo facciamo ci rendiamo conto di _due problemi_\n",
    "\n",
    "* In primo luogo, i nostri dati sono soggetti a _rumore di misura_"
   ]
  },
  {
   "cell_type": "code",
   "execution_count": 13,
   "metadata": {},
   "outputs": [
    {
     "data": {
      "image/png": "[encoded data removed]",
      "text/plain": [
       "<Figure size 2000x400 with 1 Axes>"
      ]
     },
     "metadata": {},
     "output_type": "display_data"
    }
   ],
   "source": [
    "analyze.scatter(x=data[:, 0], y=data[:, 1], xlabel='speed', ylabel='force', figsize=(20, 4))"
   ]
  },
  {
   "cell_type": "markdown",
   "metadata": {},
   "source": [
    "* I valori della forza misurata non sono esatti\n",
    "* ...Quindi non ha senso interpolarli in modo esatto!"
   ]
  },
  {
   "cell_type": "markdown",
   "metadata": {
    "slideshow": {
     "slide_type": "subslide"
    }
   },
   "source": [
    "## Sovra-determinatezza\n",
    "\n",
    "**Possiamo vederlo come un problema di progettazione di curve**\n",
    "\n",
    "...Ma se lo facciamo ci rendiamo conto di _due problemi_\n",
    "\n",
    "* In secondo luogo, il sistema risultata ha più condizioni che parametri\n",
    "\n",
    "$$\n",
    "\\underbrace{\\left(\\begin{array}{ccc}\n",
    "x_0^2  & x_0    & 1 \\\\\n",
    "x_1^2  & x_1    & 1 \\\\\n",
    "\\vdots & \\vdots & \\vdots\n",
    "\\end{array}\\right)}_{X}\n",
    "\\left(\\begin{array}{c}\n",
    "\\alpha_2 \\\\\n",
    "\\alpha_1 \\\\\n",
    "\\alpha_0\n",
    "\\end{array}\\right)\n",
    "= \n",
    "\\left(\\begin{array}{c}\n",
    "y_0 \\\\\n",
    "y_1 \\\\\n",
    "\\vdots\n",
    "\\end{array}\\right)\n",
    "$$\n",
    "\n",
    "* Il sistema di equazioni linaere si dice _sovradeterminato_\n",
    "* ...E non ammettere in generale soluzioni\n",
    "\n",
    "**Come possiamo risolvere queste difficoltà?**"
   ]
  },
  {
   "cell_type": "markdown",
   "metadata": {
    "slideshow": {
     "slide_type": "subslide"
    }
   },
   "source": [
    "## Soluzione Approssimata\n",
    "\n",
    "**Il \"trucco\" è accontentarsi di una _soluzione approssimata_**\n",
    "\n",
    "Per esempio, invece di risolvere un sistema in modo esatto, i.e.:\n",
    "$$\n",
    "X \\alpha = y\n",
    "$$\n",
    "\n",
    "...Possiamo minimizzare una _metrica di errore_:\n",
    "$$\n",
    "\\arg\\min_{\\alpha} \\|X \\alpha - y \\|_2^2\n",
    "$$\n",
    "\n",
    "* $X\\alpha$ rappresta il valore della nostra curva per ogni $x$\n",
    "* $y$ sono i valori da approssimare\n",
    "* $X\\alpha - y$ rappresenta l'errore di approssimazione (si chiama _residuo_)\n",
    "* $\\| \\ldots \\|_2^2$ è semplicementa la somma dei quadrati (norma L2)"
   ]
  },
  {
   "cell_type": "markdown",
   "metadata": {
    "slideshow": {
     "slide_type": "subslide"
    }
   },
   "source": [
    "## Metodo dei Minimi Quadrati\n",
    "\n",
    "**Questa formulazione si chiama _problema ai minimi quadrati_**\n",
    "\n",
    "$$\n",
    "\\arg\\min_{\\alpha} \\|X \\alpha - y \\|_2^2\n",
    "$$\n",
    "\n",
    "* La metrica da minimizzare si chiama anche _SSE_ (Sum of Squared Errors)\n",
    "* ...Perché è letteralmente la somma dei quadrati degli errori\n",
    "\n",
    "**Dal punto di vista geometrico è un paraboloide**\n",
    "\n",
    "...I.e. una parabola in $m$ dimensioni (tante quanti i coefficienti)\n",
    "\n",
    "* Come tutti i paraboloidi è una [funzione convessa](https://en.wikipedia.org/wiki/Convex_function)\n",
    "* Quindi ha _un solo punto di minimo_\n",
    "* ...In corrispondenza del punto in cui il gradiente (derivata) si annulla\n",
    "\n",
    "**Determineremo ora sotto quali condizioni questo succeda**"
   ]
  },
  {
   "cell_type": "markdown",
   "metadata": {
    "slideshow": {
     "slide_type": "subslide"
    }
   },
   "source": [
    "## Metodo dei Minimi Quadrati\n",
    "\n",
    "**Iniziamo osservando che:**\n",
    "\n",
    "$$\n",
    "\\begin{align}\n",
    "\\|X\\alpha - y\\|_2^2 &= (X \\alpha - y)^T(X \\alpha -y) \\\\\n",
    "& = (X \\alpha)^T (X \\alpha) - (X \\alpha)^T y - y^T (X \\alpha) + y^T y \\\\\n",
    "\\end{align}\n",
    "$$\n",
    "\n",
    "* Nell'ultima formula tutti i termini sono scalari (perché $\\|X\\alpha - y\\|_2^2$)\n",
    "* ...E quindi possono essere trasposti a piacimento\n",
    "* Inoltre, per il prodotto matriciale vale che: $(AB)^T = B^T A^T$\n",
    "\n",
    "**Di qui otteniamo:**\n",
    "\n",
    "$$\n",
    "\\begin{align}\n",
    "\\|X\\alpha - y\\|_2^2 &= (X \\alpha)^T (X \\alpha) - 2 y^T (X \\alpha) + y^T y \\\\\n",
    "&= \\alpha^T (X^T X) \\alpha - 2 (y^T X) \\alpha + y^T y\n",
    "\\end{align}\n",
    "$$"
   ]
  },
  {
   "cell_type": "markdown",
   "metadata": {
    "slideshow": {
     "slide_type": "subslide"
    }
   },
   "source": [
    "## Metodo dei Minimi Quadrati\n",
    "\n",
    "**Ora osserviamo che:**\n",
    "\n",
    "* Il gradiente di un prodotto scalare $\\nabla a x$ è $a^T$\n",
    "* Il gradiente di una forma quadratica $\\nabla x^T A x$ è $(A^T + A) x$\n",
    "\n",
    "Le due formule possono essere ottenute (con un po' di sforzo) dalle definizioni\n",
    "\n",
    "**Possiamo usare i due risultati per ottenere:**\n",
    "\n",
    "$$\n",
    "\\begin{align}\n",
    "\\nabla \\|X\\alpha - y\\|_2^2 &= \\nabla \\alpha^T (X^T X) \\alpha - 2 \\nabla (y^T X) \\alpha + \\underbrace{\\nabla y^T y}_{=0} \\\\\n",
    "&= (X^T X + X^T X) \\alpha - 2 (X^T y) \\\\\n",
    "&= 2 (X^T X) \\alpha - 2 (X^T y)\n",
    "\\end{align}\n",
    "$$"
   ]
  },
  {
   "cell_type": "markdown",
   "metadata": {
    "slideshow": {
     "slide_type": "subslide"
    }
   },
   "source": [
    "## Metodo dei Minimi Quadrati\n",
    "\n",
    "**Ora poniamo come condizione che il gradiente si annulli**\n",
    "\n",
    "$$\n",
    "2 (X^T X) \\alpha - 2 (X^T y) = 0\n",
    "$$\n",
    "\n",
    "Da cui otteniamo _un nuovo sistema lineare_:\n",
    "\n",
    "$$\n",
    "X^T X \\alpha = X^T y\n",
    "$$\n",
    "\n",
    "Il vettore $\\alpha$ che lo risolve _corrisponde alla migliore approssimazione_\n",
    "\n",
    "**Il sistema somiglia molto a quello da cui siamo partiti**\n",
    "\n",
    "Con due differenze:\n",
    "\n",
    "* La matrice dei coefficienti è data da $X^TX$ anziché da $X$\n",
    "* Il vettore dei termini noti è dato da $X^T y$ anziché da $y$"
   ]
  },
  {
   "cell_type": "markdown",
   "metadata": {
    "slideshow": {
     "slide_type": "subslide"
    }
   },
   "source": [
    "## Minimi Quadrati in `numpy`\n",
    "\n",
    "**In teoria potremmo risolvere il sistema nel solito modo**\n",
    "\n",
    "* Impostiamo $X$ ed $y$ come nel caso della progettazione di curve\n",
    "* Calcoliamo $X^T X$ e $X y$\n",
    "* Usiamo `numpy.linalg.solve` per risolvere il sistema modificato\n",
    "\n",
    "**In pratica, `numpy` può effetuare questo procedimento per noi**\n",
    "\n",
    "Dato un problema ai minimi quadrati nella forma:\n",
    "$$\n",
    "\\arg\\min \\|X \\alpha -y \\|_2^2\n",
    "$$\n",
    "\n",
    "...Possiamo risolverlo direttamente con `numpy.linalg.lstsq`\n",
    "\n",
    "* I parametri sono la matrice dei coefficienti\n",
    "* ...Ed il vettore dei termini noti"
   ]
  },
  {
   "cell_type": "markdown",
   "metadata": {
    "slideshow": {
     "slide_type": "subslide"
    }
   },
   "source": [
    "## Un Esempio Pratico\n",
    "\n",
    "**Nel nostro casso, la matrice dei coefficienti ed il vettore dei termini noti sono:**\n",
    "\n",
    "$$\n",
    "X = \\left(\\begin{array}{ccc}\n",
    "x_0^2  & x_0    & 1 \\\\\n",
    "x_1^2  & x_1    & 1 \\\\\n",
    "\\vdots & \\vdots & \\vdots\n",
    "\\end{array}\\right)\n",
    "\\quad\\quad\n",
    "y = \\left(\\begin{array}{c}\n",
    "y_0 \\\\\n",
    "y_1 \\\\\n",
    "\\vdots\n",
    "\\end{array}\\right)\n",
    "$$\n",
    "\n",
    "* Sono del tutto simili a quelle usate per la progettazione di curve\n",
    "* ...Ma contengono molti più termini\n",
    "\n",
    "**Per questa ragione non è pratico costruirle scrivendo gli elementi uno per uno**\n",
    "\n",
    "* Però ci sono dei \"pattern\" molto visibili\n",
    "* La prima colonna contiene gli $x^2$, la seconda gli $x$ e così via"
   ]
  },
  {
   "cell_type": "markdown",
   "metadata": {
    "slideshow": {
     "slide_type": "subslide"
    }
   },
   "source": [
    "## Un Esempio Pratico\n",
    "\n",
    "**Possiamo quindi:**\n",
    "\n",
    "Recuperare separatamente velocità $x$ e forza $y$ dai dati:"
   ]
  },
  {
   "cell_type": "code",
   "execution_count": 14,
   "metadata": {},
   "outputs": [],
   "source": [
    "x, y = data[:, 0], data[:, 1]"
   ]
  },
  {
   "cell_type": "markdown",
   "metadata": {},
   "source": [
    "Costruire i vettori corrispondenti alle colonne:"
   ]
  },
  {
   "cell_type": "code",
   "execution_count": 15,
   "metadata": {},
   "outputs": [],
   "source": [
    "c0 = x**2\n",
    "c1 = x\n",
    "c2 = np.ones(len(x))"
   ]
  },
  {
   "cell_type": "markdown",
   "metadata": {},
   "source": [
    "* Da notare che al momento si tratta di vettori riga!"
   ]
  },
  {
   "cell_type": "code",
   "execution_count": 16,
   "metadata": {},
   "outputs": [
    {
     "data": {
      "text/plain": [
       "(100,)"
      ]
     },
     "execution_count": 16,
     "metadata": {},
     "output_type": "execute_result"
    }
   ],
   "source": [
    "c0.shape"
   ]
  },
  {
   "cell_type": "markdown",
   "metadata": {
    "slideshow": {
     "slide_type": "subslide"
    }
   },
   "source": [
    "## Un Esempio Pratico\n",
    "\n",
    "**Quindi procediamo come segue:**\n",
    "\n",
    "Trasformiamo i vettori riga in vettori colonna"
   ]
  },
  {
   "cell_type": "code",
   "execution_count": 17,
   "metadata": {},
   "outputs": [],
   "source": [
    "c0 = c0.reshape(-1, 1)\n",
    "c1 = c1.reshape(-1, 1)\n",
    "c2 = c2.reshape(-1, 1)"
   ]
  },
  {
   "cell_type": "markdown",
   "metadata": {},
   "source": [
    "* `reshape` cambia la forma di un array\n",
    "* Un `-1` come argomenti indica che quel valore deve essere derivato\n",
    "* ...A partire dal numero totale di elementi\n",
    "\n",
    "Controlliamo che i vettori abbiano la forma corretta:"
   ]
  },
  {
   "cell_type": "code",
   "execution_count": 18,
   "metadata": {},
   "outputs": [
    {
     "data": {
      "text/plain": [
       "(100, 1)"
      ]
     },
     "execution_count": 18,
     "metadata": {},
     "output_type": "execute_result"
    }
   ],
   "source": [
    "c0.shape"
   ]
  },
  {
   "cell_type": "markdown",
   "metadata": {
    "slideshow": {
     "slide_type": "subslide"
    }
   },
   "source": [
    "## Un Esempio Pratico\n",
    "\n",
    "**Adesso possiamo concatenare i vettori colonna**"
   ]
  },
  {
   "cell_type": "code",
   "execution_count": 20,
   "metadata": {},
   "outputs": [
    {
     "name": "stdout",
     "output_type": "stream",
     "text": [
      "[[0.         0.         1.        ]\n",
      " [0.01999796 0.14141414 1.        ]\n",
      " [0.07999184 0.28282828 1.        ]\n",
      " [0.17998163 0.42424242 1.        ]\n",
      " [0.31996735 0.56565657 1.        ]]\n"
     ]
    }
   ],
   "source": [
    "X = np.hstack([c0, c1, c2])\n",
    "print(X[:5, :]) # Prime 5 righe della matrice"
   ]
  },
  {
   "cell_type": "markdown",
   "metadata": {},
   "source": [
    "* `hstack` accetta come parametro una collezione di array\n",
    "* ...E li accosta sull'asse \"orizzontale\"\n",
    "\n",
    "Nel nostro caso accosta le tre colonne"
   ]
  },
  {
   "cell_type": "markdown",
   "metadata": {
    "slideshow": {
     "slide_type": "subslide"
    }
   },
   "source": [
    "## Un Esempio Pratico\n",
    "\n",
    "**Infine possiamo ottenere la soluzione**"
   ]
  },
  {
   "cell_type": "code",
   "execution_count": 21,
   "metadata": {},
   "outputs": [
    {
     "name": "stdout",
     "output_type": "stream",
     "text": [
      "[0.05278913 0.28679521 0.76922934] [35.18965831]\n"
     ]
    }
   ],
   "source": [
    "alpha, sse, _, _ = np.linalg.lstsq(X, y, rcond=None)\n",
    "print(alpha, sse)"
   ]
  },
  {
   "cell_type": "markdown",
   "metadata": {},
   "source": [
    "* `rcond=None` è opzionale (sopprime un messagio di allerta temporaneo)\n",
    "* La funzione restituisce tre valori\n",
    "* Il primo è la soluzione, il secondo è l'SSE (come array)\n",
    "* Gli altri non ci interessano\n",
    "  - Per questo li mettiamo in un variabile con un nome breve (i.e. \"`_`\")\n",
    "\n",
    "**La soluzione corrisponde ai coefficienti nelle tre forze di attrito**"
   ]
  },
  {
   "cell_type": "markdown",
   "metadata": {
    "slideshow": {
     "slide_type": "subslide"
    }
   },
   "source": [
    "## Modulo di Esempio\n",
    "\n",
    "**Il codice è disponibile nella funzione `example.analyze.fit`**\n",
    "\n",
    "```python\n",
    "def fit(x_list, y):\n",
    "    # Converto i vettori in colonne\n",
    "    x_cols = [x.reshape(-1, 1) for x in x_list]\n",
    "    # Ottengo la matrice dei coefficienti\n",
    "    X = np.hstack(x_cols)\n",
    "    # Risolvo il problema ai minimi quadrati\n",
    "    sol, sse, _, _ = np.linalg.lstsq(X, y)\n",
    "    # Restituisco il risultato\n",
    "    return sol, see[0]\n",
    "```\n",
    "\n",
    "* La funzione è pensata per accettare in ingresso una lista di vettori riga\n",
    "* ...Così da facilitarne l'utilizzo"
   ]
  },
  {
   "cell_type": "markdown",
   "metadata": {
    "slideshow": {
     "slide_type": "subslide"
    }
   },
   "source": [
    "## Graficare i Risultati\n",
    "\n",
    "**In alcuni casi è possibile graficare la relazione ingresso/uscita**\n",
    "\n",
    "Per comodità è stata fornita la funzione `example.analyze.plot`"
   ]
  },
  {
   "cell_type": "code",
   "execution_count": 22,
   "metadata": {},
   "outputs": [
    {
     "data": {
      "image/png": "[encoded data removed]",
      "text/plain": [
       "<Figure size 2000x500 with 1 Axes>"
      ]
     },
     "metadata": {},
     "output_type": "display_data"
    },
    {
     "name": "stdout",
     "output_type": "stream",
     "text": [
      "SSE: 35.190\n"
     ]
    }
   ],
   "source": [
    "(alpha2, alpha1, alpha0), sse = analyze.fit([x**2, x, x**0], y)\n",
    "xs = np.linspace(x.min(), x.max()) # valori x _per il disegno (non i dati!)_\n",
    "ys = alpha2 * xs**2 + alpha1 * xs + 1 # valori y per il disegno\n",
    "analyze.plot(xs, ys, xlabel='speed', ylabel='force', figsize=(20, 5))\n",
    "print(f'SSE: {sse:.3f}')"
   ]
  },
  {
   "cell_type": "markdown",
   "metadata": {
    "slideshow": {
     "slide_type": "subslide"
    }
   },
   "source": [
    "## Graficare i Risultati\n",
    "\n",
    "**In tutti i casi si possono confrontare le stime con i valori misurati**\n",
    "\n",
    "Allo scopo si può usare un grafico di dispersione"
   ]
  },
  {
   "cell_type": "code",
   "execution_count": 23,
   "metadata": {},
   "outputs": [
    {
     "data": {
      "image/png": "[encoded data removed]",
      "text/plain": [
       "<Figure size 2000x500 with 1 Axes>"
      ]
     },
     "metadata": {},
     "output_type": "display_data"
    }
   ],
   "source": [
    "yp = alpha2 * x**2 + alpha1 * x + 1 # stime del modello, per ogni esempio\n",
    "analyze.scatter(y, yp, xlabel='force (measured)', ylabel='force (estimated)', figsize=(20, 5), add_bisector=True)"
   ]
  },
  {
   "cell_type": "markdown",
   "metadata": {},
   "source": [
    "* In questi casi è utile disegnare la bisettrice del primo quadrante\n",
    "* ...Perché più i punti vi sono vicino, più alta la qualità delle previsioni\n",
    "* La funzione `example.analyze.scatter` contiene una modifica per poterlo fare"
   ]
  }
 ],
 "metadata": {
  "celltoolbar": "Slideshow",
  "kernelspec": {
   "display_name": "Python 3 (ipykernel)",
   "language": "python",
   "name": "python3"
  },
  "language_info": {
   "codemirror_mode": {
    "name": "ipython",
    "version": 3
   },
   "file_extension": ".py",
   "mimetype": "text/x-python",
   "name": "python",
   "nbconvert_exporter": "python",
   "pygments_lexer": "ipython3",
   "version": "3.10.10"
  },
  "rise": {
   "center": false,
   "enable_chalkboard": true,
   "transition": "fade"
  }
 },
 "nbformat": 4,
 "nbformat_minor": 4
}
