{
 "cells": [
  {
   "cell_type": "code",
   "execution_count": 1,
   "metadata": {},
   "outputs": [],
   "source": [
    "%load_ext autoreload\n",
    "%autoreload 2"
   ]
  },
  {
   "cell_type": "markdown",
   "metadata": {
    "slideshow": {
     "slide_type": "subslide"
    }
   },
   "source": [
    "## Esercizio: Comportamento Reologico di un Fluido\n",
    "\n",
    "__Si possono dividere i fluidi in diverse categorie...__\n",
    "\n",
    "* ...In base alla relazione tra la velocità di deformazione $\\dot{\\gamma}$...\n",
    "* ...E lo sforzo tangenziale $\\tau$\n",
    "\n",
    "<center>\n",
    "<img src=\"assets/fluid_types.png\" width=\"40%\"/>\n",
    "</center>"
   ]
  },
  {
   "cell_type": "markdown",
   "metadata": {
    "slideshow": {
     "slide_type": "subslide"
    }
   },
   "source": [
    "## Esercizio: Comportamento Reologico di un Fluido\n",
    "\n",
    "__In particolare, distinguiamo:__\n",
    "\n",
    "Fluidi _Newtoniani_, per cui:\n",
    "\n",
    "$$\n",
    "\\tau = a \\dot{\\gamma}\n",
    "$$\n",
    "\n",
    "Fluidi di _Bingham_, per cui:\n",
    "\n",
    "$$\n",
    "\\tau = a \\dot{\\gamma} + b\n",
    "$$\n",
    "\n",
    "Fluidi _pseudoplastici_ e _dilatanti_, per cui:\n",
    "\n",
    "$$\n",
    "\\tau = b \\dot{\\gamma}^a\n",
    "$$\n",
    "\n",
    "* Se $a > 1$ il fluido è dilatante\n",
    "* Se $a < 1$ il fluido è pseudoplastico\n"
   ]
  },
  {
   "cell_type": "markdown",
   "metadata": {
    "slideshow": {
     "slide_type": "subslide"
    }
   },
   "source": [
    "## Esercizio: Comp. Reologico di un Fluido  \n",
    "\n",
    "__Per determinare il tipo di un fluido possiamo:__ \n",
    "\n",
    "* Otterremo delle funzioni approssimanti $f$ (via minimi quadrati)\n",
    "* Verificheremo il valore del SSE\n",
    "* L'approssimazione con il minor SSE sarà tendenzialmente corretta\n",
    "\n",
    "__Per due fluidi, sono stati misurati i valori di $\\dot{\\gamma}$ e $\\tau$__\n",
    "\n",
    "* I dati sono nei file `fluid1.csv` e `fluid2.csv` nella directory `data`\n",
    "* Per leggerli potete usare `example.analyze.read_csv`\n",
    "\n",
    "**Nella cella seguente, si proceda a leggere i due file**\n",
    "\n",
    "* Si stampino intestazioni e dati per i due file"
   ]
  },
  {
   "cell_type": "code",
   "execution_count": null,
   "metadata": {},
   "outputs": [],
   "source": []
  },
  {
   "cell_type": "markdown",
   "metadata": {},
   "source": [
    "## Esercizio: Comp. Reologico di un Fluido\n",
    "\n",
    "**Si disegnino i due dataset su due grafici di dispersione**\n",
    "\n",
    "Allo scopo, si utilizza la funzione `example.analyze.scatter`"
   ]
  },
  {
   "cell_type": "code",
   "execution_count": null,
   "metadata": {},
   "outputs": [],
   "source": []
  },
  {
   "cell_type": "markdown",
   "metadata": {
    "slideshow": {
     "slide_type": "subslide"
    }
   },
   "source": [
    "## Esercizio: Comp. Reologico di un Fluido\n",
    "\n",
    "__Prima parte: verifica se il fluido sia di Bingham__\n",
    "\n",
    "Nel modulo `sol.fluids`, definite la funzione:\n",
    "\n",
    "```python\n",
    "def fit_bingham(DGAMMA, TAU):\n",
    "```\n",
    "\n",
    "Che prenda come parametri:\n",
    "\n",
    "* Un vettore riga `DGAMMA` con i valori noti di $\\dot{\\gamma}$\n",
    "* Un vettore riga `TAU` con i valori noti di $\\tau$\n",
    "\n",
    "La funzione deve assumere che il fluido sia di Bingham e restituire:\n",
    "\n",
    "* I coefficienti della relazione $\\tau = a \\dot{\\gamma} + b$\n",
    "* Il valore dell'SSE\n",
    "\n",
    "Si stampino coefficienti ed SSE per i due fluidi"
   ]
  },
  {
   "cell_type": "code",
   "execution_count": null,
   "metadata": {},
   "outputs": [],
   "source": []
  },
  {
   "cell_type": "markdown",
   "metadata": {
    "slideshow": {
     "slide_type": "subslide"
    }
   },
   "source": [
    "## Esercizio: Comp. Reologico di un Fluido\n",
    "\n",
    "__Prima parte: verifica se il fluido sia Newtoniano__\n",
    "\n",
    "Nel modulo `sol.fluids`, definite la funzione:\n",
    "\n",
    "```python\n",
    "def fit_newton(DGAMMA, TAU):\n",
    "```\n",
    "\n",
    "Che prenda come parametri:\n",
    "\n",
    "* Un vettore riga `DGAMMA` con i valori noti di $\\dot{\\gamma}$\n",
    "* Un vettore riga `TAU` con i valori noti di $\\tau$\n",
    "\n",
    "La funzione deve assumere che il fluido sia Newtoniano e restituire:\n",
    "\n",
    "* I coefficienti della relazione $\\tau = a \\dot{\\gamma}$\n",
    "* Il valore dell'SSE\n",
    "\n",
    "Si stampino coefficienti ed SSE per i due fluidi"
   ]
  },
  {
   "cell_type": "code",
   "execution_count": null,
   "metadata": {},
   "outputs": [],
   "source": []
  },
  {
   "cell_type": "markdown",
   "metadata": {
    "slideshow": {
     "slide_type": "subslide"
    }
   },
   "source": [
    "## Esercizio: Comp. Reologico di un Fluido\n",
    "\n",
    "__Seconda parte: verifica se il fluido sia pseudoplastico o dilatante__\n",
    "\n",
    "Nel modulo `sol.fluids`, definite la funzione:\n",
    "\n",
    "```python\n",
    "def fit_powerlaw(DGAMMA, TAU):\n",
    "```\n",
    "\n",
    "Che prenda come parametri:\n",
    "\n",
    "* Un vettore riga `DGAMMA` con i valori noti di $\\dot{\\gamma}$\n",
    "* Un vettore riga `TAU` con i valori noti di $\\tau$\n",
    "\n",
    "La funzione deve assumere che il fluido sia Newtoniano e restituire:\n",
    "\n",
    "* I parametri della relazione $\\tau = b \\dot{\\gamma}^a$\n",
    "* Il valore dell'SSE\n",
    "\n",
    "Si stampino coefficienti ed SSE per i due fluidi"
   ]
  },
  {
   "cell_type": "markdown",
   "metadata": {
    "slideshow": {
     "slide_type": "subslide"
    }
   },
   "source": [
    "## Esercizio: Comp. Reologico di un Fluido\n",
    "\n",
    "__Seconda parte: verifica se il fluido sia Newtoniano__\n",
    "\n",
    "La legge $\\tau = b \\dot{\\gamma}^a$ è _non lineare in $a$ e $b$:\n",
    "\n",
    "* Se ci concentriamo sul logaritmo di $\\tau$, però, otteniamo:\n",
    "\n",
    "$$\n",
    "\\log \\tau = \\log b + a \\log \\dot{\\gamma}\n",
    "$$\n",
    "\n",
    "* Che è lineare con \"colonne\" $1$ e $\\log \\dot{\\gamma}$\n",
    "* Se $x_1$ e $x_0$ sono i parametri determinati con i minimi quadrati...\n",
    "* ...Avremo che $x_1 = \\log b$ ed $x_2 = a$\n",
    "\n",
    "Si sfrutti questa osservazione nel codice della funzione"
   ]
  },
  {
   "cell_type": "code",
   "execution_count": null,
   "metadata": {},
   "outputs": [],
   "source": []
  }
 ],
 "metadata": {
  "celltoolbar": "Slideshow",
  "kernelspec": {
   "display_name": "Python 3 (ipykernel)",
   "language": "python",
   "name": "python3"
  },
  "language_info": {
   "codemirror_mode": {
    "name": "ipython",
    "version": 3
   },
   "file_extension": ".py",
   "mimetype": "text/x-python",
   "name": "python",
   "nbconvert_exporter": "python",
   "pygments_lexer": "ipython3",
   "version": "3.10.10"
  },
  "rise": {
   "center": false,
   "enable_chalkboard": true,
   "transition": "fade"
  }
 },
 "nbformat": 4,
 "nbformat_minor": 4
}
