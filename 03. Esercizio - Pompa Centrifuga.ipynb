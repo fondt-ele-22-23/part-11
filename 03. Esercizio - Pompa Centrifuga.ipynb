{
 "cells": [
  {
   "cell_type": "code",
   "execution_count": 1,
   "metadata": {},
   "outputs": [],
   "source": [
    "%load_ext autoreload\n",
    "%autoreload 2"
   ]
  },
  {
   "cell_type": "markdown",
   "metadata": {
    "slideshow": {
     "slide_type": "subslide"
    }
   },
   "source": [
    "## Esercizio: Prestazioni di una Pompa Centrifuga\n",
    "\n",
    "__Il diagramma di prestazione di una pompa centrifuga:__\n",
    "\n",
    "<center>\n",
    "<img src=\"assets/pump_diagram.png\" width=\"50%\"/>\n",
    "</center>\n",
    "\n",
    "* Mostra la relazione tra la portata $Q$ (alle ascisse)...\n",
    "* ...E la _prevalenza $H$ (una grandezza analoga alla pressione)\n"
   ]
  },
  {
   "cell_type": "markdown",
   "metadata": {
    "slideshow": {
     "slide_type": "subslide"
    }
   },
   "source": [
    "## Esercizio: Prestazioni di una Pompa Centrifuga\n",
    "\n",
    "__Spesso il diagramma viene definito a partire da valori noti, e.g.:__\n",
    "\n",
    "<center>\n",
    "<img src=\"assets/pump_data.png\" width=\"50%\"/>\n",
    "</center>\n",
    "\n",
    "**Nel modulo `sol.pump` si definisca la funzione:**\n",
    "\n",
    "```python\n",
    "def fit_curve(Q, H)\n",
    "```\n",
    "\n",
    "...Che approsssimi la curva con un polinomio di secondo grado con la funzione:\n",
    "\n",
    "$$\n",
    "f(Q) = \\alpha_2 Q^2 + \\alpha_1 Q + \\alpha_0\n",
    "$$\n",
    "\n",
    "* Si stampi il valore dei coefficienti e dell'SSE\n",
    "* Allo scopo, si utilizzi la funzione `example.analyze.fit`"
   ]
  },
  {
   "cell_type": "code",
   "execution_count": 2,
   "metadata": {},
   "outputs": [],
   "source": [
    "import numpy as np\n",
    "\n",
    "Q = np.array([20, 40, 60, 80, 100, 120, 140, 160])\n",
    "H = np.array([21, 20.5, 20, 18.5, 17, 15, 13, 10])"
   ]
  },
  {
   "cell_type": "markdown",
   "metadata": {},
   "source": [
    "## Esercizio: Prestazioni di una Pompa Centrifuga\n",
    "\n",
    "**Nel modulo `sol.pump` si definisca la funzione:**\n",
    "\n",
    "```python\n",
    "def draw_curve(alpha2, alpha1, alpha0, Qmin, Qmax)\n",
    "```\n",
    "\n",
    "...Che disegni la curva approssimante\n",
    "\n",
    "* Allo scopo, si utilizzi la funzione `example.analyze.plot`"
   ]
  },
  {
   "cell_type": "code",
   "execution_count": null,
   "metadata": {},
   "outputs": [],
   "source": []
  },
  {
   "cell_type": "markdown",
   "metadata": {},
   "source": [
    "## Esercizio: Prestazioni di una Pompa Centrifuga\n",
    "\n",
    "**Nel modulo `sol.pump` si definisca la funzione:**\n",
    "\n",
    "```\n",
    "def draw_curve(alpha2, alpha1, alpha0, Qmin, Qmax)\n",
    "```\n",
    "\n",
    "...Che disegni la curva approssimante\n",
    "\n",
    "* Allo scopo, si utilizzi la funzione `example.analyze.plot`\n",
    "\n",
    "\n",
    "\n",
    "**Si osservi la qualità delle previsioni mediante un grafico di dispersione**\n",
    "\n",
    "* Si riportino i valori di $H$ misurati sull'asse delle ascisse\n",
    "* ...Ed i valori stimati dal modello sull'asse delle ordinate"
   ]
  },
  {
   "cell_type": "code",
   "execution_count": null,
   "metadata": {},
   "outputs": [],
   "source": []
  }
 ],
 "metadata": {
  "celltoolbar": "Slideshow",
  "kernelspec": {
   "display_name": "Python 3 (ipykernel)",
   "language": "python",
   "name": "python3"
  },
  "language_info": {
   "codemirror_mode": {
    "name": "ipython",
    "version": 3
   },
   "file_extension": ".py",
   "mimetype": "text/x-python",
   "name": "python",
   "nbconvert_exporter": "python",
   "pygments_lexer": "ipython3",
   "version": "3.10.10"
  },
  "rise": {
   "center": false,
   "enable_chalkboard": true,
   "transition": "fade"
  }
 },
 "nbformat": 4,
 "nbformat_minor": 4
}
