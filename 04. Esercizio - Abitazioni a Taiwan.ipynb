{
 "cells": [
  {
   "cell_type": "code",
   "execution_count": 1,
   "metadata": {},
   "outputs": [],
   "source": [
    "%load_ext autoreload\n",
    "%autoreload 2"
   ]
  },
  {
   "cell_type": "markdown",
   "metadata": {
    "slideshow": {
     "slide_type": "subslide"
    }
   },
   "source": [
    "## Esercizio: Abitazioni a Taiwan\n",
    "\n",
    "**Si vuole calibrare un modello per il costo delle abitazioni a Taiwan**\n",
    "\n",
    "<center>\n",
    "<img src=\"assets/taiwan-tea-house.jpg\" width=\"55%\"/>\n",
    "</center>\n",
    "\n",
    "* Una dataset nel file `real_estate.csv`, nella cartella `data`\n",
    "* Si tratta di dati pubblici dal [repository dell'Università della Californi, Irvine](https://archive.ics.uci.edu/ml/datasets.php)"
   ]
  },
  {
   "cell_type": "markdown",
   "metadata": {
    "slideshow": {
     "slide_type": "subslide"
    }
   },
   "source": [
    "## Esercizio: Abitazioni a Taiwan\n",
    "\n",
    "**Si proceda al caricamento dei dati**\n",
    "\n",
    "* Allo scopo, si utilizzi la funzione `example.analyze.read_csv`\n",
    "* Si stampi quindi l'intestazione del file (nomi delle colonne)\n",
    "* ...E le prime 5 righe della tabella"
   ]
  },
  {
   "cell_type": "code",
   "execution_count": null,
   "metadata": {},
   "outputs": [],
   "source": []
  },
  {
   "cell_type": "markdown",
   "metadata": {
    "slideshow": {
     "slide_type": "subslide"
    }
   },
   "source": [
    "## Esercizio: Abitazioni a Taiwan\n",
    "\n",
    "**Si osservino mediante grafici di dispersione le relazioni tra ingressi ed uscite**\n",
    "\n",
    "Il dataset considerato ha più di una variabile di ingresso\n",
    "\n",
    "* L'ultima colonna rappresenta l'uscita\n",
    "* Le prime colonne rappresentano gli ingressi\n",
    "\n",
    "Si consiglia di utilizzare un ciclo per iterare sulle prime colonne\n",
    "\n",
    "* Ad ogni iterazione può essere costruito un grafico di dispersione"
   ]
  },
  {
   "cell_type": "code",
   "execution_count": null,
   "metadata": {
    "scrolled": true
   },
   "outputs": [],
   "source": []
  },
  {
   "cell_type": "markdown",
   "metadata": {
    "slideshow": {
     "slide_type": "subslide"
    }
   },
   "source": [
    "## Esercizio: Abitazioni a Taiwan\n",
    "\n",
    "**Si calibri un modello mediate il metodo dei minimi quadrati**\n",
    "\n",
    "Il modello deve essere nella forma:\n",
    "\n",
    "$$\n",
    "f(x_i) = \\sum_{j = 0}^{n-1} \\alpha_j x_{i,j}\n",
    "$$\n",
    "\n",
    "Dove:\n",
    "\n",
    "* $j$ indica l'indice di una delle colonne di ingresso\n",
    "* $i$ indica l'indice di un esempio (mostrato solo per chiarezza)\n",
    "\n",
    "Intuitivamente, il modello è una sommma pesata dei valori degli ingressi\n",
    "\n",
    "* Per la calibrazione si utilizzi `example.analyze.fit`\n",
    "* Si stampino i valori dei coefficienti e del SSE"
   ]
  },
  {
   "cell_type": "code",
   "execution_count": null,
   "metadata": {},
   "outputs": [],
   "source": []
  },
  {
   "cell_type": "markdown",
   "metadata": {
    "slideshow": {
     "slide_type": "subslide"
    }
   },
   "source": [
    "## Esercizio: Abitazioni a Taiwan\n",
    "\n",
    "**Si osservi la qualità delle previsioni mediante un grafico di dispersione**\n",
    "\n",
    "* Si riportino i valori misurati sull'asse delle ascisse\n",
    "* ...Ed i valori stimati dal modello sull'asse delle ordinate"
   ]
  },
  {
   "cell_type": "code",
   "execution_count": null,
   "metadata": {},
   "outputs": [],
   "source": []
  }
 ],
 "metadata": {
  "celltoolbar": "Slideshow",
  "kernelspec": {
   "display_name": "Python 3 (ipykernel)",
   "language": "python",
   "name": "python3"
  },
  "language_info": {
   "codemirror_mode": {
    "name": "ipython",
    "version": 3
   },
   "file_extension": ".py",
   "mimetype": "text/x-python",
   "name": "python",
   "nbconvert_exporter": "python",
   "pygments_lexer": "ipython3",
   "version": "3.10.10"
  },
  "rise": {
   "center": false,
   "enable_chalkboard": true,
   "transition": "fade"
  }
 },
 "nbformat": 4,
 "nbformat_minor": 4
}
